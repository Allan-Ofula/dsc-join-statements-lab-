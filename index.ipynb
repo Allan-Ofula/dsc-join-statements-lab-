{
 "cells": [
  {
   "cell_type": "markdown",
   "metadata": {},
   "source": [
    "# Join Statements - Lab\n",
    "\n",
    "## Introduction\n",
    "\n",
    "In this lab, you'll practice your knowledge of `JOIN` statements, using various types of joins and various methods for specifying the links between them.\n",
    "\n",
    "## Objectives\n",
    "\n",
    "You will be able to:\n",
    "\n",
    "* Write SQL queries that make use of various types of joins\n",
    "* Compare and contrast the various types of joins\n",
    "* Discuss how primary and foreign keys are used in SQL\n",
    "* Decide and perform whichever type of join is best for retrieving desired data"
   ]
  },
  {
   "cell_type": "markdown",
   "metadata": {},
   "source": [
    "## CRM ERD\n",
    "\n",
    "In this lab, you'll use the same customer relationship management (CRM) database that you saw from the previous lesson.\n",
    "<img src='https://curriculum-content.s3.amazonaws.com/data-science/images/Database-Schema.png' width=\"600\">"
   ]
  },
  {
   "cell_type": "markdown",
   "metadata": {},
   "source": [
    "## Connecting to the Database\n",
    "Import the necessary packages and connect to the database `'data.sqlite'`."
   ]
  },
  {
   "cell_type": "code",
   "execution_count": 4,
   "metadata": {},
   "outputs": [],
   "source": [
    "# Your code here\n",
    "\n",
    "import pandas as pd\n",
    "import sqlite3\n",
    "\n",
    "#Connecting database\n",
    "conn = sqlite3.connect(\"data.sqlite\")\n",
    "cur = conn.cursor()"
   ]
  },
  {
   "cell_type": "markdown",
   "metadata": {},
   "source": [
    "## Select the names of all employees in Boston \n",
    "\n",
    "Hint: join the employees and offices tables. Select the first and last name."
   ]
  },
  {
   "cell_type": "code",
   "execution_count": 6,
   "metadata": {},
   "outputs": [
    {
     "name": "stdout",
     "output_type": "stream",
     "text": [
      "  firstName   lastName\n",
      "0     Julie   Firrelli\n",
      "1     Steve  Patterson\n"
     ]
    }
   ],
   "source": [
    "# Your code here\n",
    "\n",
    "#Selecting names of all employees in Boston\n",
    "name_of_employees = '''\n",
    "SELECT e.firstName, e.lastName\n",
    "FROM employees e\n",
    "JOIN offices o ON e.officeCode = o.officeCode\n",
    "WHERE o.city = 'Boston';\n",
    "'''\n",
    "df = pd.read_sql_query(name_of_employees, conn)\n",
    "print(df)"
   ]
  },
  {
   "cell_type": "markdown",
   "metadata": {},
   "source": [
    "## Are there any offices that have zero employees?\n",
    "Hint: Combine the employees and offices tables and use a group by. Select the office code, city, and number of employees."
   ]
  },
  {
   "cell_type": "code",
   "execution_count": 8,
   "metadata": {},
   "outputs": [
    {
     "name": "stdout",
     "output_type": "stream",
     "text": [
      "   officeCode    city  num_employees\n",
      "0          27  Boston              0\n"
     ]
    }
   ],
   "source": [
    "# Your code here\n",
    "\n",
    "offices_with_zero_employees = '''\n",
    "SELECT o.officeCode, o.city, COUNT(e.employeeNumber) AS num_employees\n",
    "FROM offices o\n",
    "LEFT JOIN employees e ON o.officeCode = e.officeCode\n",
    "GROUP BY o.officeCode\n",
    "HAVING num_employees = 0;\n",
    "'''\n",
    "df = pd.read_sql_query(offices_with_zero_employees, conn)\n",
    "print(df)"
   ]
  },
  {
   "cell_type": "markdown",
   "metadata": {},
   "source": [
    "## Write 3 questions of your own and answer them"
   ]
  },
  {
   "cell_type": "code",
   "execution_count": 10,
   "metadata": {},
   "outputs": [
    {
     "name": "stdout",
     "output_type": "stream",
     "text": [
      "  city  num_customers\n",
      "0  NYC              5\n"
     ]
    }
   ],
   "source": [
    "# Question 1: Which city has the highest number of customers\n",
    "\n",
    "# Your code here\n",
    "\n",
    "query_1 = '''\n",
    "SELECT city, COUNT(customerNumber) AS num_customers\n",
    "FROM customers\n",
    "GROUP BY city\n",
    "ORDER BY num_customers DESC\n",
    "LIMIT 1;\n",
    "'''\n",
    "\n",
    "df = pd.read_sql_query(query_1, conn)\n",
    "print(df)"
   ]
  },
  {
   "cell_type": "code",
   "execution_count": 11,
   "metadata": {},
   "outputs": [
    {
     "name": "stdout",
     "output_type": "stream",
     "text": [
      "                   productName  total_revenue\n",
      "0  1992 Ferrari 360 Spider red      276839.98\n"
     ]
    }
   ],
   "source": [
    "# Question 2: Which product generates the highest revenue\n",
    "\n",
    "# Your code here\n",
    "\n",
    "query_2 = '''\n",
    "SELECT p.productName, SUM(od.quantityOrdered * od.priceEach) AS total_revenue\n",
    "FROM orderdetails od\n",
    "JOIN products p ON od.productCode = p.productCode\n",
    "GROUP BY p.productName\n",
    "ORDER BY total_revenue DESC\n",
    "LIMIT 1;\n",
    "'''\n",
    "\n",
    "df = pd.read_sql_query(query_2, conn)\n",
    "print(df)"
   ]
  },
  {
   "cell_type": "code",
   "execution_count": 12,
   "metadata": {},
   "outputs": [
    {
     "name": "stdout",
     "output_type": "stream",
     "text": [
      "    customerNumber                    customerName\n",
      "0              125              Havel & Zbyszek Co\n",
      "1              168          American Souvenirs Inc\n",
      "2              169               Porto Imports Co.\n",
      "3              206      Asian Shopping Network, Co\n",
      "4              223                 Natürlich Autos\n",
      "5              237                   ANG Resellers\n",
      "6              247        Messner Shopping Network\n",
      "7              273               Franken Gifts, Co\n",
      "8              293               BG&E Collectables\n",
      "9              303                Schuyler Imports\n",
      "10             307                Der Hund Imports\n",
      "11             335       Cramer Spezialitäten, Ltd\n",
      "12             348           Asian Treasures, Inc.\n",
      "13             356            SAR Distributors, Co\n",
      "14             361                 Kommission Auto\n",
      "15             369          Lisboa Souveniers, Inc\n",
      "16             376           Precious Collectables\n",
      "17             409  Stuttgart Collectable Exchange\n",
      "18             443        Feuer Online Stores, Inc\n",
      "19             459                Warburg Exchange\n",
      "20             465             Anton Designs, Ltd.\n",
      "21             477             Mit Vergnügen & Co.\n",
      "22             480       Kremlin Collectables, Co.\n",
      "23             481              Raanan Stores, Inc\n"
     ]
    }
   ],
   "source": [
    "# Question 3: Which customers have not placed any orders\n",
    "\n",
    "# Your code here\n",
    "\n",
    "query_3 = '''\n",
    "SELECT c.customerNumber, c.customerName\n",
    "FROM customers c\n",
    "LEFT JOIN orders o ON c.customerNumber = o.customerNumber\n",
    "WHERE o.orderNumber IS NULL;\n",
    "'''\n",
    "\n",
    "df = pd.read_sql_query(query_3, conn)\n",
    "print(df)"
   ]
  },
  {
   "cell_type": "markdown",
   "metadata": {},
   "source": [
    "## Level Up 1: Display the names of every individual product that each employee has sold\n",
    "\n",
    "Hint: You will need to use multiple `JOIN` clauses to connect all the way from employee names to product names."
   ]
  },
  {
   "cell_type": "code",
   "execution_count": 14,
   "metadata": {},
   "outputs": [
    {
     "name": "stdout",
     "output_type": "stream",
     "text": [
      "     firstName lastName                productName\n",
      "0         Loui   Bondur      18th century schooner\n",
      "1         Loui   Bondur     1900s Vintage Bi-Plane\n",
      "2         Loui   Bondur    1900s Vintage Tri-Plane\n",
      "3         Loui   Bondur          1903 Ford Model A\n",
      "4         Loui   Bondur          1903 Ford Model A\n",
      "...        ...      ...                        ...\n",
      "2991    George   Vanauf                The Titanic\n",
      "2992    George   Vanauf                The Titanic\n",
      "2993    George   Vanauf  The USS Constitution Ship\n",
      "2994    George   Vanauf  The USS Constitution Ship\n",
      "2995    George   Vanauf  The USS Constitution Ship\n",
      "\n",
      "[2996 rows x 3 columns]\n"
     ]
    }
   ],
   "source": [
    "# Your code here\n",
    "\n",
    "#Product name soled by each employee\n",
    "query_4 = '''\n",
    "SELECT e.firstName, e.lastName, p.productName\n",
    "FROM employees e\n",
    "JOIN customers c ON e.employeeNumber = c.salesRepEmployeeNumber\n",
    "JOIN orders o ON c.customerNumber = o.customerNumber\n",
    "JOIN orderdetails od ON o.orderNumber = od.orderNumber\n",
    "JOIN products p ON od.productCode = p.productCode\n",
    "ORDER BY e.lastName, e.firstName, p.productName;\n",
    "'''\n",
    "\n",
    "df = pd.read_sql_query(query_4, conn)\n",
    "print(df)"
   ]
  },
  {
   "cell_type": "markdown",
   "metadata": {},
   "source": [
    "## Level Up 2: Display the number of products each employee has sold\n",
    "\n",
    "Alphabetize the results by employee last name.\n",
    "\n",
    "Hint: Use the `quantityOrdered` column from `orderDetails`. Also, think about how to group the data when some employees might have the same first or last name."
   ]
  },
  {
   "cell_type": "code",
   "execution_count": 16,
   "metadata": {},
   "outputs": [
    {
     "name": "stdout",
     "output_type": "stream",
     "text": [
      "   firstName   lastName  total_products_sold\n",
      "0       Loui     Bondur                 6186\n",
      "1      Larry       Bott                 8205\n",
      "2     Pamela   Castillo                 9290\n",
      "3      Julie   Firrelli                 4227\n",
      "4       Andy     Fixter                 6246\n",
      "5     Martin     Gerard                 4180\n",
      "6     Gerard  Hernandez                14231\n",
      "7     Leslie   Jennings                11854\n",
      "8      Barry      Jones                 7486\n",
      "9      Peter      Marsh                 6632\n",
      "10      Mami      Nishi                 4923\n",
      "11     Steve  Patterson                 5561\n",
      "12    Leslie   Thompson                 4056\n",
      "13  Foon Yue      Tseng                 5016\n",
      "14    George     Vanauf                 7423\n"
     ]
    }
   ],
   "source": [
    "# Your code here\n",
    "\n",
    "#Number of products old by each employee\n",
    "query_5 = '''\n",
    "SELECT e.firstName, e.lastName, SUM(od.quantityOrdered) AS total_products_sold\n",
    "FROM employees e\n",
    "JOIN customers c ON e.employeeNumber = c.salesRepEmployeeNumber\n",
    "JOIN orders o ON c.customerNumber = o.customerNumber\n",
    "JOIN orderdetails od ON o.orderNumber = od.orderNumber\n",
    "GROUP BY e.firstName, e.lastName\n",
    "ORDER BY e.lastName, e.firstName;\n",
    "'''\n",
    "\n",
    "df = pd.read_sql_query(query_5, conn)\n",
    "print(df)"
   ]
  },
  {
   "cell_type": "markdown",
   "metadata": {},
   "source": [
    "## Level Up 3: Display the names employees who have sold more than 200 different products\n",
    "\n",
    "Hint: this is different from the previous question because the quantity sold doesn't matter, only the number of different products"
   ]
  },
  {
   "cell_type": "code",
   "execution_count": 18,
   "metadata": {},
   "outputs": [
    {
     "name": "stdout",
     "output_type": "stream",
     "text": [
      "Empty DataFrame\n",
      "Columns: [firstName, lastName, unique_products_sold]\n",
      "Index: []\n"
     ]
    }
   ],
   "source": [
    "# Your code here\n",
    "\n",
    "# Employees who sold more than 200 different products\n",
    "query_6 = '''\n",
    "SELECT e.firstName, e.lastName, COUNT(DISTINCT p.productCode) AS unique_products_sold\n",
    "FROM employees e\n",
    "JOIN customers c ON e.employeeNumber = c.salesRepEmployeeNumber\n",
    "JOIN orders o ON c.customerNumber = o.customerNumber\n",
    "JOIN orderdetails od ON o.orderNumber = od.orderNumber\n",
    "JOIN products p ON od.productCode = p.productCode\n",
    "GROUP BY e.firstName, e.lastName\n",
    "HAVING unique_products_sold > 200\n",
    "ORDER BY unique_products_sold DESC;\n",
    "'''\n",
    "\n",
    "df = pd.read_sql_query(query_6, conn)\n",
    "print(df)"
   ]
  },
  {
   "cell_type": "code",
   "execution_count": 19,
   "metadata": {},
   "outputs": [
    {
     "name": "stdout",
     "output_type": "stream",
     "text": [
      "   firstName   lastName  unique_products_sold\n",
      "0     Gerard  Hernandez                   109\n",
      "1     Leslie   Jennings                   107\n",
      "2       Loui     Bondur                   101\n",
      "3     Pamela   Castillo                   100\n",
      "4      Barry      Jones                    98\n",
      "5      Larry       Bott                    97\n",
      "6      Peter      Marsh                    97\n",
      "7     George     Vanauf                    96\n",
      "8      Steve  Patterson                    95\n",
      "9       Andy     Fixter                    82\n",
      "10      Mami      Nishi                    81\n",
      "11     Julie   Firrelli                    80\n",
      "12    Martin     Gerard                    78\n",
      "13  Foon Yue      Tseng                    74\n",
      "14    Leslie   Thompson                    73\n"
     ]
    }
   ],
   "source": [
    "# Employees who sold highest number of different products\n",
    "\n",
    "query_7 = '''\n",
    "SELECT e.firstName, e.lastName, COUNT(DISTINCT p.productCode) AS unique_products_sold\n",
    "FROM employees e\n",
    "JOIN customers c ON e.employeeNumber = c.salesRepEmployeeNumber\n",
    "JOIN orders o ON c.customerNumber = o.customerNumber\n",
    "JOIN orderdetails od ON o.orderNumber = od.orderNumber\n",
    "JOIN products p ON od.productCode = p.productCode\n",
    "GROUP BY e.firstName, e.lastName\n",
    "ORDER BY unique_products_sold DESC;\n",
    "'''\n",
    "\n",
    "df = pd.read_sql_query(query_7, conn)\n",
    "print(df)"
   ]
  },
  {
   "cell_type": "markdown",
   "metadata": {},
   "source": [
    "## Summary"
   ]
  },
  {
   "cell_type": "markdown",
   "metadata": {},
   "source": [
    "Congrats! You practiced using join statements and leveraged your foreign keys knowledge!"
   ]
  }
 ],
 "metadata": {
  "kernelspec": {
   "display_name": "Python [conda env:base] *",
   "language": "python",
   "name": "conda-base-py"
  },
  "language_info": {
   "codemirror_mode": {
    "name": "ipython",
    "version": 3
   },
   "file_extension": ".py",
   "mimetype": "text/x-python",
   "name": "python",
   "nbconvert_exporter": "python",
   "pygments_lexer": "ipython3",
   "version": "3.12.3"
  },
  "toc": {
   "base_numbering": 1,
   "nav_menu": {},
   "number_sections": true,
   "sideBar": true,
   "skip_h1_title": false,
   "title_cell": "Table of Contents",
   "title_sidebar": "Contents",
   "toc_cell": false,
   "toc_position": {},
   "toc_section_display": true,
   "toc_window_display": false
  }
 },
 "nbformat": 4,
 "nbformat_minor": 4
}
