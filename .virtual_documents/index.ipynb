








# Your code here

import pandas as pd
import sqlite3

#Connecting database
conn = sqlite3.connect("data.sqlite")
cur = conn.cursor()





# Your code here

#Selecting names of all employees in Boston
name_of_employees = '''
SELECT e.firstName, e.lastName
FROM employees e
JOIN offices o ON e.officeCode = o.officeCode
WHERE o.city = 'Boston';
'''
df = pd.read_sql_query(name_of_employees, conn)
print(df)





# Your code here

offices_with_zero_employees = '''
SELECT o.officeCode, o.city, COUNT(e.employeeNumber) AS num_employees
FROM offices o
LEFT JOIN employees e ON o.officeCode = e.officeCode
GROUP BY o.officeCode
HAVING num_employees = 0;
'''
df = pd.read_sql_query(offices_with_zero_employees, conn)
print(df)





# Question 1: Which city has the highest number of customers

# Your code here

query_1 = '''
SELECT city, COUNT(customerNumber) AS num_customers
FROM customers
GROUP BY city
ORDER BY num_customers DESC
LIMIT 1;
'''

df = pd.read_sql_query(query_1, conn)
print(df)


# Question 2: Which product generates the highest revenue

# Your code here

query_2 = '''
SELECT p.productName, SUM(od.quantityOrdered * od.priceEach) AS total_revenue
FROM orderdetails od
JOIN products p ON od.productCode = p.productCode
GROUP BY p.productName
ORDER BY total_revenue DESC
LIMIT 1;
'''

df = pd.read_sql_query(query_2, conn)
print(df)


# Question 3: Which customers have not placed any orders

# Your code here

query_3 = '''
SELECT c.customerNumber, c.customerName
FROM customers c
LEFT JOIN orders o ON c.customerNumber = o.customerNumber
WHERE o.orderNumber IS NULL;
'''

df = pd.read_sql_query(query_3, conn)
print(df)





# Your code here

#Product name soled by each employee
query_4 = '''
SELECT e.firstName, e.lastName, p.productName
FROM employees e
JOIN customers c ON e.employeeNumber = c.salesRepEmployeeNumber
JOIN orders o ON c.customerNumber = o.customerNumber
JOIN orderdetails od ON o.orderNumber = od.orderNumber
JOIN products p ON od.productCode = p.productCode
ORDER BY e.lastName, e.firstName, p.productName;
'''

df = pd.read_sql_query(query_4, conn)
print(df)





# Your code here

#Number of products old by each employee
query_5 = '''
SELECT e.firstName, e.lastName, SUM(od.quantityOrdered) AS total_products_sold
FROM employees e
JOIN customers c ON e.employeeNumber = c.salesRepEmployeeNumber
JOIN orders o ON c.customerNumber = o.customerNumber
JOIN orderdetails od ON o.orderNumber = od.orderNumber
GROUP BY e.firstName, e.lastName
ORDER BY e.lastName, e.firstName;
'''

df = pd.read_sql_query(query_5, conn)
print(df)





# Your code here

# Employees who sold more than 200 different products
query_6 = '''
SELECT e.firstName, e.lastName, COUNT(DISTINCT p.productCode) AS unique_products_sold
FROM employees e
JOIN customers c ON e.employeeNumber = c.salesRepEmployeeNumber
JOIN orders o ON c.customerNumber = o.customerNumber
JOIN orderdetails od ON o.orderNumber = od.orderNumber
JOIN products p ON od.productCode = p.productCode
GROUP BY e.firstName, e.lastName
HAVING unique_products_sold > 200
ORDER BY unique_products_sold DESC;
'''

df = pd.read_sql_query(query_6, conn)
print(df)


# Employees who sold highest number of different products

query_7 = '''
SELECT e.firstName, e.lastName, COUNT(DISTINCT p.productCode) AS unique_products_sold
FROM employees e
JOIN customers c ON e.employeeNumber = c.salesRepEmployeeNumber
JOIN orders o ON c.customerNumber = o.customerNumber
JOIN orderdetails od ON o.orderNumber = od.orderNumber
JOIN products p ON od.productCode = p.productCode
GROUP BY e.firstName, e.lastName
ORDER BY unique_products_sold DESC;
'''

df = pd.read_sql_query(query_7, conn)
print(df)






